{
 "cells": [
  {
   "cell_type": "code",
   "execution_count": 13,
   "metadata": {},
   "outputs": [
    {
     "name": "stdout",
     "output_type": "stream",
     "text": [
      "120000000.0\n"
     ]
    }
   ],
   "source": [
    "f=1.2e8\n",
    "print(f)"
   ]
  },
  {
   "cell_type": "raw",
   "metadata": {},
   "source": [
    "# python basic programs"
   ]
  },
  {
   "cell_type": "markdown",
   "metadata": {},
   "source": [
    "# complex datatype\n"
   ]
  },
  {
   "cell_type": "code",
   "execution_count": 14,
   "metadata": {},
   "outputs": [
    {
     "name": "stdout",
     "output_type": "stream",
     "text": [
      "<class 'complex'>\n",
      "10.0\n",
      "20.0\n",
      "(50+80j)\n",
      "(-30-20j)\n",
      "(0.4634146341463415+0.17073170731707318j)\n"
     ]
    }
   ],
   "source": [
    "x=10+20j\n",
    "print(type(x))\n",
    "print(x.real)\n",
    "print(x.imag)\n",
    "p=10+30j\n",
    "q=40+50j\n",
    "print(p+q)\n",
    "print(p-q)\n",
    "print(p/q)"
   ]
  },
  {
   "cell_type": "markdown",
   "metadata": {},
   "source": [
    "# str datatype"
   ]
  },
  {
   "cell_type": "code",
   "execution_count": 18,
   "metadata": {},
   "outputs": [
    {
     "name": "stdout",
     "output_type": "stream",
     "text": [
      "teja\n",
      "    cbit\n",
      "    gandipet\n"
     ]
    }
   ],
   "source": [
    "a=\"\"\"teja\n",
    "    cbit\n",
    "    gandipet\"\"\" #triple quotes\n",
    "print(a)"
   ]
  },
  {
   "cell_type": "code",
   "execution_count": 22,
   "metadata": {},
   "outputs": [
    {
     "name": "stdout",
     "output_type": "stream",
     "text": [
      "my name is \"banu\" is and \"bad\" boy\n"
     ]
    }
   ],
   "source": [
    "b=\"\"\"my name is \"banu\" is and \"bad\" boy\"\"\"\n",
    "print(b)"
   ]
  },
  {
   "cell_type": "code",
   "execution_count": 31,
   "metadata": {},
   "outputs": [
    {
     "name": "stdout",
     "output_type": "stream",
     "text": [
      "u\n",
      "b\n",
      "t\n",
      "e\n",
      "banu teja\n"
     ]
    }
   ],
   "source": [
    "a='banu teja'\n",
    "print(a[3])\n",
    "print(a[0])\n",
    "print(a[5])\n",
    "print(a[-3])\n",
    "print(a[:])"
   ]
  },
  {
   "cell_type": "markdown",
   "metadata": {},
   "source": [
    "# slice operator\n",
    "     \n",
    "     slice operator is used to select part of the string from the whole by using \"index operator[]\" we can slice\n",
    "     syntax:[begin:end]\n",
    "     it will return begin to string end-1\n",
    "        ex:\n",
    "            >>a='operator'\n",
    "            >>print(a[0:7]\n",
    "            \n",
    "            o/p:operato \n",
    "            \n",
    "      by o/p we can analyze the last char is end-1\n",
    "            "
   ]
  },
  {
   "cell_type": "code",
   "execution_count": 43,
   "metadata": {},
   "outputs": [
    {
     "name": "stdout",
     "output_type": "stream",
     "text": [
      "abcdefghijklmnopqrstuwxyz\n",
      "abcdefghijklmnopqrstuwxyz\n",
      "abcdefghijklmnopqrstuwxyz\n"
     ]
    }
   ],
   "source": [
    "a=\"abcdefghijklmnopqrstuwxyz\"\n",
    "print(a[:])\n",
    "print(a[:26])\n",
    "print(a[:30])\n",
    "print(a[1:])\n",
    "print()"
   ]
  },
  {
   "cell_type": "code",
   "execution_count": 44,
   "metadata": {},
   "outputs": [
    {
     "name": "stdout",
     "output_type": "stream",
     "text": [
      "operato\n"
     ]
    }
   ],
   "source": [
    "a='operator'\n",
    "print(a[0:7])"
   ]
  },
  {
   "cell_type": "code",
   "execution_count": null,
   "metadata": {},
   "outputs": [],
   "source": []
  },
  {
   "cell_type": "markdown",
   "metadata": {},
   "source": [
    "# what can we do the slice operator?\n",
    "\n",
    "s='python'\n",
    "i want to convert the first char to capital \n",
    "\n",
    "why we are using [0]?\n",
    "by using index operator we can select our character"
   ]
  },
  {
   "cell_type": "code",
   "execution_count": 47,
   "metadata": {},
   "outputs": [
    {
     "name": "stdout",
     "output_type": "stream",
     "text": [
      "P\n"
     ]
    }
   ],
   "source": [
    "s='python'\n",
    "c=s[0].upper()\n",
    "print(c)"
   ]
  },
  {
   "cell_type": "code",
   "execution_count": 50,
   "metadata": {},
   "outputs": [
    {
     "name": "stdout",
     "output_type": "stream",
     "text": [
      "pythoN\n"
     ]
    }
   ],
   "source": [
    "s='python'\n",
    "c=s[:5]+s[5].upper()\n",
    "print(c)"
   ]
  },
  {
   "cell_type": "markdown",
   "metadata": {},
   "source": [
    "# string index[]\n",
    "\n",
    "index can be referred as arrays[] \n",
    "index starts with 0\n",
    "index in python can move forward------------> as well as backward direction<-----------\n",
    "forward=index of [0],[1],[2],[3],[4]\n",
    "backward=index of[-1],[-2],[-3],[-4],[-5]"
   ]
  },
  {
   "cell_type": "code",
   "execution_count": 52,
   "metadata": {},
   "outputs": [
    {
     "name": "stdout",
     "output_type": "stream",
     "text": [
      "p y\n"
     ]
    }
   ],
   "source": [
    "a='python'\n",
    "print(a[0],a[1])"
   ]
  },
  {
   "cell_type": "code",
   "execution_count": null,
   "metadata": {},
   "outputs": [],
   "source": []
  }
 ],
 "metadata": {
  "kernelspec": {
   "display_name": "Python 3",
   "language": "python",
   "name": "python3"
  },
  "language_info": {
   "codemirror_mode": {
    "name": "ipython",
    "version": 3
   },
   "file_extension": ".py",
   "mimetype": "text/x-python",
   "name": "python",
   "nbconvert_exporter": "python",
   "pygments_lexer": "ipython3",
   "version": "3.7.6"
  }
 },
 "nbformat": 4,
 "nbformat_minor": 2
}
